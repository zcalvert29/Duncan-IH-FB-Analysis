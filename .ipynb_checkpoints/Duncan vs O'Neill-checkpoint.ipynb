{
 "cells": [
  {
   "cell_type": "code",
   "execution_count": 55,
   "metadata": {},
   "outputs": [],
   "source": [
    "import pandas as pd\n",
    "from analysis import run_analysis"
   ]
  },
  {
   "cell_type": "code",
   "execution_count": 56,
   "metadata": {},
   "outputs": [
    {
     "name": "stdout",
     "output_type": "stream",
     "text": [
      "Duncan's Total Yards of Offense: 132\n",
      "# of Plays Run by Duncan: 36\n",
      "Duncan Offensive Efficiency: 3.67 Yards Per Play\n",
      "\n",
      "O'Neill's Total Yards of Offense: 69\n",
      "# of Plays Run by O'Neill: 30\n",
      "O'Neill's Offensive Efficiency: 2.3 Yards Per Play\n",
      "\n",
      "Duncan Hall's In-Depth Offensive Stats\n",
      "\n",
      "Total Passing Yards: 91\n",
      "Passing Plays: 19\n",
      "Pass Efficiency: 4.79 Yards Per Play\n",
      "\n",
      "Total Rushing Yards: 33\n",
      "Rushing Plays: 16\n",
      "Rush Efficiency: 2.06 Yards Per Play\n"
     ]
    }
   ],
   "source": [
    "input_file = \"Duncan vs ONeill 10-10-21.xlsx\"\n",
    "opponent = \"O'Neill\"\n",
    "output_file = \"Duncan vs O'Neill 10-10-21 Stats.xlsx\"\n",
    "run_analysis(input_file, opponent, output_file)"
   ]
  }
 ],
 "metadata": {
  "kernelspec": {
   "display_name": "Python 3",
   "language": "python",
   "name": "python3"
  },
  "language_info": {
   "codemirror_mode": {
    "name": "ipython",
    "version": 3
   },
   "file_extension": ".py",
   "mimetype": "text/x-python",
   "name": "python",
   "nbconvert_exporter": "python",
   "pygments_lexer": "ipython3",
   "version": "3.7.4"
  }
 },
 "nbformat": 4,
 "nbformat_minor": 2
}
