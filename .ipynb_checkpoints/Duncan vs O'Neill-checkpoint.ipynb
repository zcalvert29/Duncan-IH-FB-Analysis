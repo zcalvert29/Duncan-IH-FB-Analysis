{
 "cells": [
  {
   "cell_type": "code",
   "execution_count": 1,
   "metadata": {},
   "outputs": [],
   "source": [
    "import pandas as pd"
   ]
  },
  {
   "cell_type": "code",
   "execution_count": 9,
   "metadata": {},
   "outputs": [
    {
     "data": {
      "text/html": [
       "<div>\n",
       "<style scoped>\n",
       "    .dataframe tbody tr th:only-of-type {\n",
       "        vertical-align: middle;\n",
       "    }\n",
       "\n",
       "    .dataframe tbody tr th {\n",
       "        vertical-align: top;\n",
       "    }\n",
       "\n",
       "    .dataframe thead th {\n",
       "        text-align: right;\n",
       "    }\n",
       "</style>\n",
       "<table border=\"1\" class=\"dataframe\">\n",
       "  <thead>\n",
       "    <tr style=\"text-align: right;\">\n",
       "      <th></th>\n",
       "      <th>O/D</th>\n",
       "      <th>Down</th>\n",
       "      <th>Distance</th>\n",
       "      <th>Yard Line</th>\n",
       "      <th>R/P/S</th>\n",
       "      <th>QB</th>\n",
       "      <th>Ball Carrier</th>\n",
       "      <th>Result</th>\n",
       "      <th>Description</th>\n",
       "    </tr>\n",
       "  </thead>\n",
       "  <tbody>\n",
       "    <tr>\n",
       "      <td>0</td>\n",
       "      <td>O</td>\n",
       "      <td>1.0</td>\n",
       "      <td>10.0</td>\n",
       "      <td>57.0</td>\n",
       "      <td>P</td>\n",
       "      <td>#7</td>\n",
       "      <td>#20</td>\n",
       "      <td>0</td>\n",
       "      <td>Pass Intended for #20 is intercepted</td>\n",
       "    </tr>\n",
       "    <tr>\n",
       "      <td>1</td>\n",
       "      <td>O</td>\n",
       "      <td>1.0</td>\n",
       "      <td>10.0</td>\n",
       "      <td>65.0</td>\n",
       "      <td>R</td>\n",
       "      <td>#7</td>\n",
       "      <td>#7</td>\n",
       "      <td>-9</td>\n",
       "      <td>#7 is sacked for loss of 9</td>\n",
       "    </tr>\n",
       "    <tr>\n",
       "      <td>2</td>\n",
       "      <td>O</td>\n",
       "      <td>2.0</td>\n",
       "      <td>19.0</td>\n",
       "      <td>74.0</td>\n",
       "      <td>P</td>\n",
       "      <td>#7</td>\n",
       "      <td>#20</td>\n",
       "      <td>0</td>\n",
       "      <td>Pass intended for #20 is incomplete</td>\n",
       "    </tr>\n",
       "    <tr>\n",
       "      <td>3</td>\n",
       "      <td>O</td>\n",
       "      <td>3.0</td>\n",
       "      <td>19.0</td>\n",
       "      <td>74.0</td>\n",
       "      <td>P</td>\n",
       "      <td>#7</td>\n",
       "      <td>#20</td>\n",
       "      <td>0</td>\n",
       "      <td>Pass intended for #20 is incomplete</td>\n",
       "    </tr>\n",
       "    <tr>\n",
       "      <td>4</td>\n",
       "      <td>O</td>\n",
       "      <td>4.0</td>\n",
       "      <td>19.0</td>\n",
       "      <td>74.0</td>\n",
       "      <td>S</td>\n",
       "      <td>NaN</td>\n",
       "      <td>NaN</td>\n",
       "      <td>PUNT</td>\n",
       "      <td>Punt of 31 yards</td>\n",
       "    </tr>\n",
       "  </tbody>\n",
       "</table>\n",
       "</div>"
      ],
      "text/plain": [
       "  O/D  Down  Distance  Yard Line R/P/S   QB Ball Carrier Result  \\\n",
       "0   O   1.0      10.0       57.0     P   #7          #20      0   \n",
       "1   O   1.0      10.0       65.0     R   #7           #7     -9   \n",
       "2   O   2.0      19.0       74.0     P   #7          #20      0   \n",
       "3   O   3.0      19.0       74.0     P   #7          #20      0   \n",
       "4   O   4.0      19.0       74.0     S  NaN          NaN   PUNT   \n",
       "\n",
       "                            Description  \n",
       "0  Pass Intended for #20 is intercepted  \n",
       "1            #7 is sacked for loss of 9  \n",
       "2   Pass intended for #20 is incomplete  \n",
       "3   Pass intended for #20 is incomplete  \n",
       "4                      Punt of 31 yards  "
      ]
     },
     "execution_count": 9,
     "metadata": {},
     "output_type": "execute_result"
    }
   ],
   "source": [
    "file = \"Duncan vs ONeill 10-10-21.xlsx\"\n",
    "game = pd.read_excel(file)\n",
    "game = game[['O/D', 'Down', 'Distance', 'Yard Line', 'R/P/S', 'QB', 'Ball Carrier', 'Result', 'Description']]\n",
    "game.head()"
   ]
  },
  {
   "cell_type": "code",
   "execution_count": 11,
   "metadata": {},
   "outputs": [],
   "source": [
    "offense = game[(game['O/D'] == 'O') & (game['R/P/S'] != 'S')]\n",
    "passes = offense[offense['R/P/S'] == 'P']\n",
    "rushes = offense[offense['R/P/S'] == 'R']\n",
    "defense = game[(game['O/D'] == 'D') & (game['R/P/S'] != 'S')]"
   ]
  },
  {
   "cell_type": "code",
   "execution_count": 12,
   "metadata": {},
   "outputs": [
    {
     "name": "stdout",
     "output_type": "stream",
     "text": [
      "Duncan's Total Yards of Offense: 138\n",
      "# of Plays Run by Duncan: 37\n",
      "Duncan Offensive Efficiency: 3.73 Yards Per Play\n",
      "\n",
      "O'Neill's Total Yards of Offense: 69\n",
      "# of Plays Run by O'Neill: 30\n",
      "O'Neill's Offensive Efficiency: 2.3 Yards Per Play\n"
     ]
    }
   ],
   "source": [
    "total_yards_offense = offense['Result'].sum()\n",
    "total_yards_defense = defense['Result'].sum()\n",
    "offense_plays = len(offense)\n",
    "defense_plays = len(defense)\n",
    "print(f\"Duncan's Total Yards of Offense: {total_yards_offense}\")\n",
    "print(f\"# of Plays Run by Duncan: {offense_plays}\")\n",
    "print(f\"Duncan Offensive Efficiency: {round(total_yards_offense/offense_plays, 2)} Yards Per Play\\n\")\n",
    "print(f\"O'Neill's Total Yards of Offense: {total_yards_defense}\")\n",
    "print(f\"# of Plays Run by O'Neill: {defense_plays}\")\n",
    "print(f\"O'Neill's Offensive Efficiency: {round(total_yards_defense/defense_plays, 2)} Yards Per Play\")"
   ]
  },
  {
   "cell_type": "code",
   "execution_count": 13,
   "metadata": {},
   "outputs": [
    {
     "data": {
      "text/plain": [
       "Ball Carrier\n",
       "#12    70\n",
       "#20    20\n",
       "#2      7\n",
       "#3      0\n",
       "Name: Result, dtype: int64"
      ]
     },
     "execution_count": 13,
     "metadata": {},
     "output_type": "execute_result"
    }
   ],
   "source": [
    "# How many yards did each receiver have? \n",
    "passes.groupby(\"Ball Carrier\")['Result'].sum().sort_values(ascending=False)"
   ]
  },
  {
   "cell_type": "code",
   "execution_count": 15,
   "metadata": {},
   "outputs": [
    {
     "data": {
      "text/plain": [
       "Ball Carrier\n",
       "#12    9\n",
       "#3     5\n",
       "#20    5\n",
       "#2     1\n",
       "dtype: int64"
      ]
     },
     "execution_count": 15,
     "metadata": {},
     "output_type": "execute_result"
    }
   ],
   "source": [
    "# How many times were each receiver targeted?\n",
    "passes.groupby('Ball Carrier').size().sort_values(ascending=False)"
   ]
  },
  {
   "cell_type": "code",
   "execution_count": 17,
   "metadata": {},
   "outputs": [
    {
     "data": {
      "text/plain": [
       "Ball Carrier\n",
       "#12    4\n",
       "#20    2\n",
       "#2     1\n",
       "dtype: int64"
      ]
     },
     "execution_count": 17,
     "metadata": {},
     "output_type": "execute_result"
    }
   ],
   "source": [
    "# How many catches did each receiver have?\n",
    "completions = passes[passes['Result'] != 0]\n",
    "completions.groupby('Ball Carrier').size().sort_values(ascending=False)"
   ]
  },
  {
   "cell_type": "code",
   "execution_count": 18,
   "metadata": {},
   "outputs": [
    {
     "name": "stdout",
     "output_type": "stream",
     "text": [
      "Pass Attempts: 20\n",
      "Pass Completions: 7\n"
     ]
    }
   ],
   "source": [
    "print(f\"Pass Attempts: {len(passes)}\")\n",
    "print(f\"Pass Completions: {len(completions)}\")"
   ]
  },
  {
   "cell_type": "code",
   "execution_count": 19,
   "metadata": {},
   "outputs": [
    {
     "data": {
      "text/plain": [
       "Ball Carrier\n",
       "#7     26\n",
       "#3      5\n",
       "#28     2\n",
       "Name: Result, dtype: int64"
      ]
     },
     "execution_count": 19,
     "metadata": {},
     "output_type": "execute_result"
    }
   ],
   "source": [
    "# How many rushing yards did each rusher have?\n",
    "rushes.groupby('Ball Carrier')['Result'].sum().sort_values(ascending=False)"
   ]
  },
  {
   "cell_type": "code",
   "execution_count": 21,
   "metadata": {},
   "outputs": [
    {
     "data": {
      "text/plain": [
       "Ball Carrier\n",
       "#7     8\n",
       "#3     7\n",
       "#28    1\n",
       "dtype: int64"
      ]
     },
     "execution_count": 21,
     "metadata": {},
     "output_type": "execute_result"
    }
   ],
   "source": [
    "# How often did each player rush the ball?\n",
    "rushes.groupby('Ball Carrier').size().sort_values(ascending=False)"
   ]
  },
  {
   "cell_type": "code",
   "execution_count": 22,
   "metadata": {},
   "outputs": [
    {
     "name": "stdout",
     "output_type": "stream",
     "text": [
      "Total Passing Yards: 97\n",
      "Passing Plays: 20\n",
      "Pass Efficiency: 4.85 Yards Per Play\n",
      "\n",
      "Total Rushing Yards: 33\n",
      "Rushing Plays: 16\n",
      "Rush Efficiency: 2.06 Yards Per Play\n"
     ]
    }
   ],
   "source": [
    "passing_yards = passes['Result'].sum()\n",
    "pass_plays = len(passes)\n",
    "rushing_yards = rushes['Result'].sum()\n",
    "rush_plays = len(rushes)\n",
    "print(f\"Total Passing Yards: {passing_yards}\")\n",
    "print(f\"Passing Plays: {pass_plays}\")\n",
    "print(f\"Pass Efficiency: {round(passing_yards/pass_plays, 2)} Yards Per Play\\n\")\n",
    "print(f\"Total Rushing Yards: {rushing_yards}\")\n",
    "print(f\"Rushing Plays: {rush_plays}\")\n",
    "print(f\"Rush Efficiency: {round(rushing_yards/rush_plays, 2)} Yards Per Play\")"
   ]
  },
  {
   "cell_type": "code",
   "execution_count": 25,
   "metadata": {},
   "outputs": [
    {
     "name": "stdout",
     "output_type": "stream",
     "text": [
      "Cam Teza Passing Offense: 7/20, 97 yards 2 TD\n",
      "\n",
      "Cam Teza Rushing Offense: 8 rushes, 26 yards\n",
      "Pete Kavanaugh Rushing Offense: 7 rushes, 5 yards\n",
      "Charlie Dapp Rushing Offense: 1 rush, 1 yard\n",
      "\n",
      "Xander Steele Receiving Offense: 4 catches, 70 yards, 2 TD\n",
      "Teddy Maginn Receiving Offense: 2 catches, 20 yards\n",
      "Dan Shields Receiving Offense: 1 catch, 7 yards\n"
     ]
    }
   ],
   "source": [
    "print(\"Cam Teza Passing Offense: 7/20, 97 yards 2 TD\\n\\nCam Teza Rushing Offense: 8 rushes, 26 yards\")\n",
    "print(\"Pete Kavanaugh Rushing Offense: 7 rushes, 5 yards\")\n",
    "print(\"Charlie Dapp Rushing Offense: 1 rush, 1 yard\\n\")\n",
    "print(\"Xander Steele Receiving Offense: 4 catches, 70 yards, 2 TD\")\n",
    "print(\"Teddy Maginn Receiving Offense: 2 catches, 20 yards\")\n",
    "print(\"Dan Shields Receiving Offense: 1 catch, 7 yards\")"
   ]
  }
 ],
 "metadata": {
  "kernelspec": {
   "display_name": "Python 3",
   "language": "python",
   "name": "python3"
  },
  "language_info": {
   "codemirror_mode": {
    "name": "ipython",
    "version": 3
   },
   "file_extension": ".py",
   "mimetype": "text/x-python",
   "name": "python",
   "nbconvert_exporter": "python",
   "pygments_lexer": "ipython3",
   "version": "3.7.4"
  }
 },
 "nbformat": 4,
 "nbformat_minor": 2
}
